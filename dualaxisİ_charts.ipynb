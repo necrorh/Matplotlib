{
 "cells": [
  {
   "cell_type": "code",
   "execution_count": 35,
   "id": "3623f435",
   "metadata": {},
   "outputs": [],
   "source": [
    "import pandas as pd\n",
    "import matplotlib.pyplot as plt\n"
   ]
  },
  {
   "cell_type": "code",
   "execution_count": 36,
   "id": "85d12063",
   "metadata": {},
   "outputs": [],
   "source": [
    "#twinx() to create a dual axis chart, which lets you plot series with values on significantly different scales inside a single visual"
   ]
  },
  {
   "cell_type": "code",
   "execution_count": 37,
   "id": "fa14dde2",
   "metadata": {},
   "outputs": [],
   "source": [
    "housing_raw = pd.read_csv(\"../Data/housing_data.csv\", parse_dates=[\"period_begin\", \"period_end\"], \n",
    "                          dtype={\"total_homes_sold\": \"Int32\", \"region_name\":\"category\"}\n",
    "                         )"
   ]
  },
  {
   "cell_type": "code",
   "execution_count": 50,
   "id": "6d13a3c2",
   "metadata": {},
   "outputs": [
    {
     "data": {
      "text/html": [
       "<div>\n",
       "<style scoped>\n",
       "    .dataframe tbody tr th:only-of-type {\n",
       "        vertical-align: middle;\n",
       "    }\n",
       "\n",
       "    .dataframe tbody tr th {\n",
       "        vertical-align: top;\n",
       "    }\n",
       "\n",
       "    .dataframe thead th {\n",
       "        text-align: right;\n",
       "    }\n",
       "</style>\n",
       "<table border=\"1\" class=\"dataframe\">\n",
       "  <thead>\n",
       "    <tr style=\"text-align: right;\">\n",
       "      <th></th>\n",
       "      <th>region_name</th>\n",
       "      <th>period_end</th>\n",
       "      <th>total_homes_sold</th>\n",
       "      <th>inventory</th>\n",
       "      <th>active_listings</th>\n",
       "      <th>age_of_inventory</th>\n",
       "      <th>median_active_list_price</th>\n",
       "      <th>months_of_supply</th>\n",
       "    </tr>\n",
       "    <tr>\n",
       "      <th>period_begin</th>\n",
       "      <th></th>\n",
       "      <th></th>\n",
       "      <th></th>\n",
       "      <th></th>\n",
       "      <th></th>\n",
       "      <th></th>\n",
       "      <th></th>\n",
       "      <th></th>\n",
       "    </tr>\n",
       "  </thead>\n",
       "  <tbody>\n",
       "    <tr>\n",
       "      <th>2017-01-02</th>\n",
       "      <td>Mono</td>\n",
       "      <td>2017-03-26</td>\n",
       "      <td>97</td>\n",
       "      <td>153.0</td>\n",
       "      <td>161.0</td>\n",
       "      <td>89.7</td>\n",
       "      <td>450745.8</td>\n",
       "      <td>21.208631</td>\n",
       "    </tr>\n",
       "    <tr>\n",
       "      <th>2017-01-02</th>\n",
       "      <td>Yolo</td>\n",
       "      <td>2017-03-26</td>\n",
       "      <td>336</td>\n",
       "      <td>234.0</td>\n",
       "      <td>272.0</td>\n",
       "      <td>48.5</td>\n",
       "      <td>447859.2</td>\n",
       "      <td>9.857470</td>\n",
       "    </tr>\n",
       "    <tr>\n",
       "      <th>2017-01-02</th>\n",
       "      <td>Stanislaus</td>\n",
       "      <td>2017-03-26</td>\n",
       "      <td>1192</td>\n",
       "      <td>912.0</td>\n",
       "      <td>1043.0</td>\n",
       "      <td>55.3</td>\n",
       "      <td>300302.0</td>\n",
       "      <td>10.971331</td>\n",
       "    </tr>\n",
       "    <tr>\n",
       "      <th>2017-01-02</th>\n",
       "      <td>Shasta</td>\n",
       "      <td>2017-03-26</td>\n",
       "      <td>7</td>\n",
       "      <td>17.0</td>\n",
       "      <td>18.0</td>\n",
       "      <td>147.5</td>\n",
       "      <td>489020.8</td>\n",
       "      <td>17.333333</td>\n",
       "    </tr>\n",
       "    <tr>\n",
       "      <th>2017-01-02</th>\n",
       "      <td>Lassen</td>\n",
       "      <td>2017-03-26</td>\n",
       "      <td>2</td>\n",
       "      <td>5.0</td>\n",
       "      <td>5.0</td>\n",
       "      <td>98.8</td>\n",
       "      <td>198750.0</td>\n",
       "      <td>5.500000</td>\n",
       "    </tr>\n",
       "  </tbody>\n",
       "</table>\n",
       "</div>"
      ],
      "text/plain": [
       "             region_name period_end  total_homes_sold  inventory  \\\n",
       "period_begin                                                       \n",
       "2017-01-02          Mono 2017-03-26                97      153.0   \n",
       "2017-01-02          Yolo 2017-03-26               336      234.0   \n",
       "2017-01-02    Stanislaus 2017-03-26              1192      912.0   \n",
       "2017-01-02        Shasta 2017-03-26                 7       17.0   \n",
       "2017-01-02        Lassen 2017-03-26                 2        5.0   \n",
       "\n",
       "              active_listings  age_of_inventory  median_active_list_price  \\\n",
       "period_begin                                                                \n",
       "2017-01-02              161.0              89.7                  450745.8   \n",
       "2017-01-02              272.0              48.5                  447859.2   \n",
       "2017-01-02             1043.0              55.3                  300302.0   \n",
       "2017-01-02               18.0             147.5                  489020.8   \n",
       "2017-01-02                5.0              98.8                  198750.0   \n",
       "\n",
       "              months_of_supply  \n",
       "period_begin                    \n",
       "2017-01-02           21.208631  \n",
       "2017-01-02            9.857470  \n",
       "2017-01-02           10.971331  \n",
       "2017-01-02           17.333333  \n",
       "2017-01-02            5.500000  "
      ]
     },
     "execution_count": 50,
     "metadata": {},
     "output_type": "execute_result"
    }
   ],
   "source": [
    "ca_housing = (\n",
    "    housing_raw\n",
    "    .loc[housing_raw[\"region_name\"].str.contains(\"CA\")]\n",
    "    .assign(region_name = housing_raw[\"region_name\"].str[0:-11])\n",
    "    .set_index(\"period_begin\").sort_index())\n",
    "ca_housing.head()"
   ]
  },
  {
   "cell_type": "code",
   "execution_count": 54,
   "id": "35622cfe",
   "metadata": {},
   "outputs": [
    {
     "data": {
      "text/html": [
       "<div>\n",
       "<style scoped>\n",
       "    .dataframe tbody tr th:only-of-type {\n",
       "        vertical-align: middle;\n",
       "    }\n",
       "\n",
       "    .dataframe tbody tr th {\n",
       "        vertical-align: top;\n",
       "    }\n",
       "\n",
       "    .dataframe thead th {\n",
       "        text-align: right;\n",
       "    }\n",
       "</style>\n",
       "<table border=\"1\" class=\"dataframe\">\n",
       "  <thead>\n",
       "    <tr style=\"text-align: right;\">\n",
       "      <th></th>\n",
       "      <th>inventory</th>\n",
       "      <th>median_active_list_price</th>\n",
       "    </tr>\n",
       "    <tr>\n",
       "      <th>period_begin</th>\n",
       "      <th></th>\n",
       "      <th></th>\n",
       "    </tr>\n",
       "  </thead>\n",
       "  <tbody>\n",
       "    <tr>\n",
       "      <th>2017-01-02</th>\n",
       "      <td>5468.0</td>\n",
       "      <td>618570.8</td>\n",
       "    </tr>\n",
       "    <tr>\n",
       "      <th>2017-01-09</th>\n",
       "      <td>5493.0</td>\n",
       "      <td>621737.5</td>\n",
       "    </tr>\n",
       "    <tr>\n",
       "      <th>2017-01-16</th>\n",
       "      <td>5520.0</td>\n",
       "      <td>625820.8</td>\n",
       "    </tr>\n",
       "    <tr>\n",
       "      <th>2017-01-23</th>\n",
       "      <td>5546.0</td>\n",
       "      <td>629491.6</td>\n",
       "    </tr>\n",
       "    <tr>\n",
       "      <th>2017-01-30</th>\n",
       "      <td>5581.0</td>\n",
       "      <td>632824.0</td>\n",
       "    </tr>\n",
       "  </tbody>\n",
       "</table>\n",
       "</div>"
      ],
      "text/plain": [
       "              inventory  median_active_list_price\n",
       "period_begin                                     \n",
       "2017-01-02       5468.0                  618570.8\n",
       "2017-01-09       5493.0                  621737.5\n",
       "2017-01-16       5520.0                  625820.8\n",
       "2017-01-23       5546.0                  629491.6\n",
       "2017-01-30       5581.0                  632824.0"
      ]
     },
     "execution_count": 54,
     "metadata": {},
     "output_type": "execute_result"
    }
   ],
   "source": [
    "sd_dual = (\n",
    "    ca_housing\n",
    "    .loc[ca_housing[\"region_name\"] == \"San Diego\",\n",
    "        [\"inventory\", \"median_active_list_price\"]]\n",
    ")\n",
    "sd_dual.head()"
   ]
  },
  {
   "cell_type": "code",
   "execution_count": 59,
   "id": "c5f5d97a",
   "metadata": {},
   "outputs": [
    {
     "data": {
      "text/plain": [
       "[<matplotlib.lines.Line2D at 0x274e7d2b3a0>]"
      ]
     },
     "execution_count": 59,
     "metadata": {},
     "output_type": "execute_result"
    },
    {
     "data": {
      "image/png": "[encoded data removed]",
      "text/plain": [
       "<Figure size 640x480 with 2 Axes>"
      ]
     },
     "metadata": {},
     "output_type": "display_data"
    }
   ],
   "source": [
    "fig, ax = plt.subplots()\n",
    "\n",
    "ax.plot(sd_dual[\"inventory\"])\n",
    "\n",
    "ax2 = ax.twinx()\n",
    "ax2.plot(sd_dual[\"median_active_list_price\"])"
   ]
  },
  {
   "cell_type": "code",
   "execution_count": null,
   "id": "0cc5b3ac",
   "metadata": {},
   "outputs": [],
   "source": []
  },
  {
   "cell_type": "code",
   "execution_count": null,
   "id": "cde7d865",
   "metadata": {},
   "outputs": [],
   "source": []
  }
 ],
 "metadata": {
  "kernelspec": {
   "display_name": "Python 3 (ipykernel)",
   "language": "python",
   "name": "python3"
  },
  "language_info": {
   "codemirror_mode": {
    "name": "ipython",
    "version": 3
   },
   "file_extension": ".py",
   "mimetype": "text/x-python",
   "name": "python",
   "nbconvert_exporter": "python",
   "pygments_lexer": "ipython3",
   "version": "3.10.9"
  }
 },
 "nbformat": 4,
 "nbformat_minor": 5
}
